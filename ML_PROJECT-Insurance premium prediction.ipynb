{
  "nbformat": 4,
  "nbformat_minor": 0,
  "metadata": {
    "colab": {
      "name": "ML PROJECT.ipynb",
      "provenance": [],
      "collapsed_sections": [],
      "include_colab_link": true
    },
    "kernelspec": {
      "name": "python3",
      "display_name": "Python 3"
    },
    "language_info": {
      "name": "python"
    },
    "widgets": {
      "application/vnd.jupyter.widget-state+json": {
        "faa668ee0e44422888ce021d3fbed4eb": {
          "model_module": "@jupyter-widgets/controls",
          "model_name": "IntSliderModel",
          "model_module_version": "1.5.0",
          "state": {
            "_view_name": "IntSliderView",
            "style": "IPY_MODEL_a1255a7cf2fb48048742578b3a8a4542",
            "_dom_classes": [],
            "description": "Age:",
            "step": 1,
            "_model_name": "IntSliderModel",
            "orientation": "horizontal",
            "max": 64,
            "_view_module": "@jupyter-widgets/controls",
            "_model_module_version": "1.5.0",
            "value": 45,
            "_view_count": null,
            "disabled": false,
            "_view_module_version": "1.5.0",
            "min": 18,
            "continuous_update": true,
            "readout_format": "d",
            "description_tooltip": null,
            "readout": true,
            "_model_module": "@jupyter-widgets/controls",
            "layout": "IPY_MODEL_19ab83a237314d8181bce416bc0f860d"
          }
        },
        "a1255a7cf2fb48048742578b3a8a4542": {
          "model_module": "@jupyter-widgets/controls",
          "model_name": "SliderStyleModel",
          "model_module_version": "1.5.0",
          "state": {
            "_view_name": "StyleView",
            "handle_color": null,
            "_model_name": "SliderStyleModel",
            "description_width": "",
            "_view_module": "@jupyter-widgets/base",
            "_model_module_version": "1.5.0",
            "_view_count": null,
            "_view_module_version": "1.2.0",
            "_model_module": "@jupyter-widgets/controls"
          }
        },
        "19ab83a237314d8181bce416bc0f860d": {
          "model_module": "@jupyter-widgets/base",
          "model_name": "LayoutModel",
          "model_module_version": "1.2.0",
          "state": {
            "_view_name": "LayoutView",
            "grid_template_rows": null,
            "right": null,
            "justify_content": null,
            "_view_module": "@jupyter-widgets/base",
            "overflow": null,
            "_model_module_version": "1.2.0",
            "_view_count": null,
            "flex_flow": null,
            "width": null,
            "min_width": null,
            "border": null,
            "align_items": null,
            "bottom": null,
            "_model_module": "@jupyter-widgets/base",
            "top": null,
            "grid_column": null,
            "overflow_y": null,
            "overflow_x": null,
            "grid_auto_flow": null,
            "grid_area": null,
            "grid_template_columns": null,
            "flex": null,
            "_model_name": "LayoutModel",
            "justify_items": null,
            "grid_row": null,
            "max_height": null,
            "align_content": null,
            "visibility": null,
            "align_self": null,
            "height": null,
            "min_height": null,
            "padding": null,
            "grid_auto_rows": null,
            "grid_gap": null,
            "max_width": null,
            "order": null,
            "_view_module_version": "1.2.0",
            "grid_template_areas": null,
            "object_position": null,
            "object_fit": null,
            "grid_auto_columns": null,
            "margin": null,
            "display": null,
            "left": null
          }
        },
        "b2439d3abb184516ada6413db1478631": {
          "model_module": "@jupyter-widgets/controls",
          "model_name": "FloatSliderModel",
          "model_module_version": "1.5.0",
          "state": {
            "_view_name": "FloatSliderView",
            "style": "IPY_MODEL_11866971695b4ee7bcbc9d23d89470e8",
            "_dom_classes": [],
            "description": "BMI:",
            "step": 0.01,
            "_model_name": "FloatSliderModel",
            "orientation": "horizontal",
            "max": 54,
            "_view_module": "@jupyter-widgets/controls",
            "_model_module_version": "1.5.0",
            "value": 36.17,
            "_view_count": null,
            "disabled": false,
            "_view_module_version": "1.5.0",
            "min": 15,
            "continuous_update": true,
            "readout_format": ".2f",
            "description_tooltip": null,
            "readout": true,
            "_model_module": "@jupyter-widgets/controls",
            "layout": "IPY_MODEL_f05c83f3748347b19a306ac939b64f32"
          }
        },
        "11866971695b4ee7bcbc9d23d89470e8": {
          "model_module": "@jupyter-widgets/controls",
          "model_name": "SliderStyleModel",
          "model_module_version": "1.5.0",
          "state": {
            "_view_name": "StyleView",
            "handle_color": null,
            "_model_name": "SliderStyleModel",
            "description_width": "",
            "_view_module": "@jupyter-widgets/base",
            "_model_module_version": "1.5.0",
            "_view_count": null,
            "_view_module_version": "1.2.0",
            "_model_module": "@jupyter-widgets/controls"
          }
        },
        "f05c83f3748347b19a306ac939b64f32": {
          "model_module": "@jupyter-widgets/base",
          "model_name": "LayoutModel",
          "model_module_version": "1.2.0",
          "state": {
            "_view_name": "LayoutView",
            "grid_template_rows": null,
            "right": null,
            "justify_content": null,
            "_view_module": "@jupyter-widgets/base",
            "overflow": null,
            "_model_module_version": "1.2.0",
            "_view_count": null,
            "flex_flow": null,
            "width": null,
            "min_width": null,
            "border": null,
            "align_items": null,
            "bottom": null,
            "_model_module": "@jupyter-widgets/base",
            "top": null,
            "grid_column": null,
            "overflow_y": null,
            "overflow_x": null,
            "grid_auto_flow": null,
            "grid_area": null,
            "grid_template_columns": null,
            "flex": null,
            "_model_name": "LayoutModel",
            "justify_items": null,
            "grid_row": null,
            "max_height": null,
            "align_content": null,
            "visibility": null,
            "align_self": null,
            "height": null,
            "min_height": null,
            "padding": null,
            "grid_auto_rows": null,
            "grid_gap": null,
            "max_width": null,
            "order": null,
            "_view_module_version": "1.2.0",
            "grid_template_areas": null,
            "object_position": null,
            "object_fit": null,
            "grid_auto_columns": null,
            "margin": null,
            "display": null,
            "left": null
          }
        },
        "480765b383ef4b4e8974f65d2c8e609c": {
          "model_module": "@jupyter-widgets/controls",
          "model_name": "IntSliderModel",
          "model_module_version": "1.5.0",
          "state": {
            "_view_name": "IntSliderView",
            "style": "IPY_MODEL_ca750f3c49cf457aa0ed72b7cf9588ea",
            "_dom_classes": [],
            "description": "Children:",
            "step": 1,
            "_model_name": "IntSliderModel",
            "orientation": "horizontal",
            "max": 5,
            "_view_module": "@jupyter-widgets/controls",
            "_model_module_version": "1.5.0",
            "value": 5,
            "_view_count": null,
            "disabled": false,
            "_view_module_version": "1.5.0",
            "min": 0,
            "continuous_update": true,
            "readout_format": "d",
            "description_tooltip": null,
            "readout": true,
            "_model_module": "@jupyter-widgets/controls",
            "layout": "IPY_MODEL_af65ae571cbd461684f38e9a43f5d111"
          }
        },
        "ca750f3c49cf457aa0ed72b7cf9588ea": {
          "model_module": "@jupyter-widgets/controls",
          "model_name": "SliderStyleModel",
          "model_module_version": "1.5.0",
          "state": {
            "_view_name": "StyleView",
            "handle_color": null,
            "_model_name": "SliderStyleModel",
            "description_width": "",
            "_view_module": "@jupyter-widgets/base",
            "_model_module_version": "1.5.0",
            "_view_count": null,
            "_view_module_version": "1.2.0",
            "_model_module": "@jupyter-widgets/controls"
          }
        },
        "af65ae571cbd461684f38e9a43f5d111": {
          "model_module": "@jupyter-widgets/base",
          "model_name": "LayoutModel",
          "model_module_version": "1.2.0",
          "state": {
            "_view_name": "LayoutView",
            "grid_template_rows": null,
            "right": null,
            "justify_content": null,
            "_view_module": "@jupyter-widgets/base",
            "overflow": null,
            "_model_module_version": "1.2.0",
            "_view_count": null,
            "flex_flow": null,
            "width": null,
            "min_width": null,
            "border": null,
            "align_items": null,
            "bottom": null,
            "_model_module": "@jupyter-widgets/base",
            "top": null,
            "grid_column": null,
            "overflow_y": null,
            "overflow_x": null,
            "grid_auto_flow": null,
            "grid_area": null,
            "grid_template_columns": null,
            "flex": null,
            "_model_name": "LayoutModel",
            "justify_items": null,
            "grid_row": null,
            "max_height": null,
            "align_content": null,
            "visibility": null,
            "align_self": null,
            "height": null,
            "min_height": null,
            "padding": null,
            "grid_auto_rows": null,
            "grid_gap": null,
            "max_width": null,
            "order": null,
            "_view_module_version": "1.2.0",
            "grid_template_areas": null,
            "object_position": null,
            "object_fit": null,
            "grid_auto_columns": null,
            "margin": null,
            "display": null,
            "left": null
          }
        },
        "2d29ef24219d4fbcaac2526ef32b64ee": {
          "model_module": "@jupyter-widgets/controls",
          "model_name": "ToggleButtonsModel",
          "model_module_version": "1.5.0",
          "state": {
            "_options_labels": [
              "female",
              "male"
            ],
            "_view_name": "ToggleButtonsView",
            "style": "IPY_MODEL_dc8048e0de894275abcb8fef4cda05f0",
            "_dom_classes": [],
            "description": "Sex:",
            "_model_name": "ToggleButtonsModel",
            "tooltips": [],
            "index": 1,
            "button_style": "",
            "_view_module": "@jupyter-widgets/controls",
            "_model_module_version": "1.5.0",
            "_view_count": null,
            "disabled": false,
            "_view_module_version": "1.5.0",
            "icons": [],
            "description_tooltip": null,
            "_model_module": "@jupyter-widgets/controls",
            "layout": "IPY_MODEL_e9a9cba63a724e09aa8c580a75566a41"
          }
        },
        "dc8048e0de894275abcb8fef4cda05f0": {
          "model_module": "@jupyter-widgets/controls",
          "model_name": "ToggleButtonsStyleModel",
          "model_module_version": "1.5.0",
          "state": {
            "_view_name": "StyleView",
            "button_width": "",
            "_model_name": "ToggleButtonsStyleModel",
            "description_width": "",
            "_view_module": "@jupyter-widgets/base",
            "_model_module_version": "1.5.0",
            "_view_count": null,
            "font_weight": "",
            "_view_module_version": "1.2.0",
            "_model_module": "@jupyter-widgets/controls"
          }
        },
        "e9a9cba63a724e09aa8c580a75566a41": {
          "model_module": "@jupyter-widgets/base",
          "model_name": "LayoutModel",
          "model_module_version": "1.2.0",
          "state": {
            "_view_name": "LayoutView",
            "grid_template_rows": null,
            "right": null,
            "justify_content": null,
            "_view_module": "@jupyter-widgets/base",
            "overflow": null,
            "_model_module_version": "1.2.0",
            "_view_count": null,
            "flex_flow": null,
            "width": null,
            "min_width": null,
            "border": null,
            "align_items": null,
            "bottom": null,
            "_model_module": "@jupyter-widgets/base",
            "top": null,
            "grid_column": null,
            "overflow_y": null,
            "overflow_x": null,
            "grid_auto_flow": null,
            "grid_area": null,
            "grid_template_columns": null,
            "flex": null,
            "_model_name": "LayoutModel",
            "justify_items": null,
            "grid_row": null,
            "max_height": null,
            "align_content": null,
            "visibility": null,
            "align_self": null,
            "height": null,
            "min_height": null,
            "padding": null,
            "grid_auto_rows": null,
            "grid_gap": null,
            "max_width": null,
            "order": null,
            "_view_module_version": "1.2.0",
            "grid_template_areas": null,
            "object_position": null,
            "object_fit": null,
            "grid_auto_columns": null,
            "margin": null,
            "display": null,
            "left": null
          }
        },
        "e23db5e62ff14678a1c7fbfa44faefc5": {
          "model_module": "@jupyter-widgets/controls",
          "model_name": "ToggleButtonsModel",
          "model_module_version": "1.5.0",
          "state": {
            "_options_labels": [
              "no",
              "yes"
            ],
            "_view_name": "ToggleButtonsView",
            "style": "IPY_MODEL_313c600e307d4c7d8505c093cc4c6277",
            "_dom_classes": [],
            "description": "Smoker:",
            "_model_name": "ToggleButtonsModel",
            "tooltips": [],
            "index": 0,
            "button_style": "",
            "_view_module": "@jupyter-widgets/controls",
            "_model_module_version": "1.5.0",
            "_view_count": null,
            "disabled": false,
            "_view_module_version": "1.5.0",
            "icons": [],
            "description_tooltip": null,
            "_model_module": "@jupyter-widgets/controls",
            "layout": "IPY_MODEL_15fd462923254630aa96a5a92118e5af"
          }
        },
        "313c600e307d4c7d8505c093cc4c6277": {
          "model_module": "@jupyter-widgets/controls",
          "model_name": "ToggleButtonsStyleModel",
          "model_module_version": "1.5.0",
          "state": {
            "_view_name": "StyleView",
            "button_width": "",
            "_model_name": "ToggleButtonsStyleModel",
            "description_width": "",
            "_view_module": "@jupyter-widgets/base",
            "_model_module_version": "1.5.0",
            "_view_count": null,
            "font_weight": "",
            "_view_module_version": "1.2.0",
            "_model_module": "@jupyter-widgets/controls"
          }
        },
        "15fd462923254630aa96a5a92118e5af": {
          "model_module": "@jupyter-widgets/base",
          "model_name": "LayoutModel",
          "model_module_version": "1.2.0",
          "state": {
            "_view_name": "LayoutView",
            "grid_template_rows": null,
            "right": null,
            "justify_content": null,
            "_view_module": "@jupyter-widgets/base",
            "overflow": null,
            "_model_module_version": "1.2.0",
            "_view_count": null,
            "flex_flow": null,
            "width": null,
            "min_width": null,
            "border": null,
            "align_items": null,
            "bottom": null,
            "_model_module": "@jupyter-widgets/base",
            "top": null,
            "grid_column": null,
            "overflow_y": null,
            "overflow_x": null,
            "grid_auto_flow": null,
            "grid_area": null,
            "grid_template_columns": null,
            "flex": null,
            "_model_name": "LayoutModel",
            "justify_items": null,
            "grid_row": null,
            "max_height": null,
            "align_content": null,
            "visibility": null,
            "align_self": null,
            "height": null,
            "min_height": null,
            "padding": null,
            "grid_auto_rows": null,
            "grid_gap": null,
            "max_width": null,
            "order": null,
            "_view_module_version": "1.2.0",
            "grid_template_areas": null,
            "object_position": null,
            "object_fit": null,
            "grid_auto_columns": null,
            "margin": null,
            "display": null,
            "left": null
          }
        },
        "0f572fc234ab406489ce3dbfb3810486": {
          "model_module": "@jupyter-widgets/controls",
          "model_name": "DropdownModel",
          "model_module_version": "1.5.0",
          "state": {
            "_options_labels": [
              "northeast",
              "northwest",
              "southeast",
              "southwest"
            ],
            "_view_name": "DropdownView",
            "style": "IPY_MODEL_b8995f0dd5fc43f785624732b96e8be7",
            "_dom_classes": [],
            "description": "Region:",
            "_model_name": "DropdownModel",
            "index": 2,
            "_view_module": "@jupyter-widgets/controls",
            "_model_module_version": "1.5.0",
            "_view_count": null,
            "disabled": false,
            "_view_module_version": "1.5.0",
            "description_tooltip": null,
            "_model_module": "@jupyter-widgets/controls",
            "layout": "IPY_MODEL_a63d7ebe58b3471daaa266bc9c50ca0e"
          }
        },
        "b8995f0dd5fc43f785624732b96e8be7": {
          "model_module": "@jupyter-widgets/controls",
          "model_name": "DescriptionStyleModel",
          "model_module_version": "1.5.0",
          "state": {
            "_view_name": "StyleView",
            "_model_name": "DescriptionStyleModel",
            "description_width": "",
            "_view_module": "@jupyter-widgets/base",
            "_model_module_version": "1.5.0",
            "_view_count": null,
            "_view_module_version": "1.2.0",
            "_model_module": "@jupyter-widgets/controls"
          }
        },
        "a63d7ebe58b3471daaa266bc9c50ca0e": {
          "model_module": "@jupyter-widgets/base",
          "model_name": "LayoutModel",
          "model_module_version": "1.2.0",
          "state": {
            "_view_name": "LayoutView",
            "grid_template_rows": null,
            "right": null,
            "justify_content": null,
            "_view_module": "@jupyter-widgets/base",
            "overflow": null,
            "_model_module_version": "1.2.0",
            "_view_count": null,
            "flex_flow": null,
            "width": null,
            "min_width": null,
            "border": null,
            "align_items": null,
            "bottom": null,
            "_model_module": "@jupyter-widgets/base",
            "top": null,
            "grid_column": null,
            "overflow_y": null,
            "overflow_x": null,
            "grid_auto_flow": null,
            "grid_area": null,
            "grid_template_columns": null,
            "flex": null,
            "_model_name": "LayoutModel",
            "justify_items": null,
            "grid_row": null,
            "max_height": null,
            "align_content": null,
            "visibility": null,
            "align_self": null,
            "height": null,
            "min_height": null,
            "padding": null,
            "grid_auto_rows": null,
            "grid_gap": null,
            "max_width": null,
            "order": null,
            "_view_module_version": "1.2.0",
            "grid_template_areas": null,
            "object_position": null,
            "object_fit": null,
            "grid_auto_columns": null,
            "margin": null,
            "display": null,
            "left": null
          }
        },
        "5545ef01d566482ba410cc372d1c03bd": {
          "model_module": "@jupyter-widgets/controls",
          "model_name": "ButtonModel",
          "model_module_version": "1.5.0",
          "state": {
            "_view_name": "ButtonView",
            "style": "IPY_MODEL_ced1c743594f48019bb7641d3e941863",
            "_dom_classes": [],
            "description": "Predict",
            "_model_name": "ButtonModel",
            "button_style": "",
            "_view_module": "@jupyter-widgets/controls",
            "_model_module_version": "1.5.0",
            "tooltip": "",
            "_view_count": null,
            "disabled": false,
            "_view_module_version": "1.5.0",
            "layout": "IPY_MODEL_19943f0304004d30962e340a78630b7a",
            "_model_module": "@jupyter-widgets/controls",
            "icon": ""
          }
        },
        "ced1c743594f48019bb7641d3e941863": {
          "model_module": "@jupyter-widgets/controls",
          "model_name": "ButtonStyleModel",
          "model_module_version": "1.5.0",
          "state": {
            "_view_name": "StyleView",
            "_model_name": "ButtonStyleModel",
            "_view_module": "@jupyter-widgets/base",
            "_model_module_version": "1.5.0",
            "_view_count": null,
            "button_color": null,
            "font_weight": "",
            "_view_module_version": "1.2.0",
            "_model_module": "@jupyter-widgets/controls"
          }
        },
        "19943f0304004d30962e340a78630b7a": {
          "model_module": "@jupyter-widgets/base",
          "model_name": "LayoutModel",
          "model_module_version": "1.2.0",
          "state": {
            "_view_name": "LayoutView",
            "grid_template_rows": null,
            "right": null,
            "justify_content": null,
            "_view_module": "@jupyter-widgets/base",
            "overflow": null,
            "_model_module_version": "1.2.0",
            "_view_count": null,
            "flex_flow": null,
            "width": null,
            "min_width": null,
            "border": null,
            "align_items": null,
            "bottom": null,
            "_model_module": "@jupyter-widgets/base",
            "top": null,
            "grid_column": null,
            "overflow_y": null,
            "overflow_x": null,
            "grid_auto_flow": null,
            "grid_area": null,
            "grid_template_columns": null,
            "flex": null,
            "_model_name": "LayoutModel",
            "justify_items": null,
            "grid_row": null,
            "max_height": null,
            "align_content": null,
            "visibility": null,
            "align_self": null,
            "height": null,
            "min_height": null,
            "padding": null,
            "grid_auto_rows": null,
            "grid_gap": null,
            "max_width": null,
            "order": null,
            "_view_module_version": "1.2.0",
            "grid_template_areas": null,
            "object_position": null,
            "object_fit": null,
            "grid_auto_columns": null,
            "margin": null,
            "display": null,
            "left": null
          }
        },
        "a52e3ce1c6104f9f8740d13ebd8023f8": {
          "model_module": "@jupyter-widgets/output",
          "model_name": "OutputModel",
          "model_module_version": "1.0.0",
          "state": {
            "_view_name": "OutputView",
            "msg_id": "",
            "_dom_classes": [],
            "_model_name": "OutputModel",
            "outputs": [],
            "_view_module": "@jupyter-widgets/output",
            "_model_module_version": "1.0.0",
            "_view_count": null,
            "_view_module_version": "1.0.0",
            "layout": "IPY_MODEL_c75672c0c63544fe9e2dc3c1dcc4edb3",
            "_model_module": "@jupyter-widgets/output"
          }
        },
        "c75672c0c63544fe9e2dc3c1dcc4edb3": {
          "model_module": "@jupyter-widgets/base",
          "model_name": "LayoutModel",
          "model_module_version": "1.2.0",
          "state": {
            "_view_name": "LayoutView",
            "grid_template_rows": null,
            "right": null,
            "justify_content": null,
            "_view_module": "@jupyter-widgets/base",
            "overflow": null,
            "_model_module_version": "1.2.0",
            "_view_count": null,
            "flex_flow": null,
            "width": null,
            "min_width": null,
            "border": null,
            "align_items": null,
            "bottom": null,
            "_model_module": "@jupyter-widgets/base",
            "top": null,
            "grid_column": null,
            "overflow_y": null,
            "overflow_x": null,
            "grid_auto_flow": null,
            "grid_area": null,
            "grid_template_columns": null,
            "flex": null,
            "_model_name": "LayoutModel",
            "justify_items": null,
            "grid_row": null,
            "max_height": null,
            "align_content": null,
            "visibility": null,
            "align_self": null,
            "height": null,
            "min_height": null,
            "padding": null,
            "grid_auto_rows": null,
            "grid_gap": null,
            "max_width": null,
            "order": null,
            "_view_module_version": "1.2.0",
            "grid_template_areas": null,
            "object_position": null,
            "object_fit": null,
            "grid_auto_columns": null,
            "margin": null,
            "display": null,
            "left": null
          }
        }
      }
    }
  },
  "cells": [
    {
      "cell_type": "markdown",
      "metadata": {
        "id": "view-in-github",
        "colab_type": "text"
      },
      "source": [
        "<a href=\"https://colab.research.google.com/github/190031319PHemanthBhargav/machine-learning-projects/blob/main/ML_PROJECT-Insurance%20premium%20prediction.ipynb\" target=\"_parent\"><img src=\"https://colab.research.google.com/assets/colab-badge.svg\" alt=\"Open In Colab\"/></a>"
      ]
    },
    {
      "cell_type": "markdown",
      "metadata": {
        "id": "sA90w7lVAr2I"
      },
      "source": [
        "# Design and implement a web application to predict insurance premiums based on   publicly available risk factors\n",
        "\n",
        "\n"
      ]
    },
    {
      "cell_type": "markdown",
      "metadata": {
        "id": "XyhBytH1CLkX"
      },
      "source": [
        "*in this project we have to predict the customer's insurance premiums based on available factors like age, gender, number of children, bmi value etc.*"
      ]
    },
    {
      "cell_type": "code",
      "metadata": {
        "id": "UJXygO11Cvk8"
      },
      "source": [
        "import numpy as np \n",
        "import pandas as pd\n",
        "import matplotlib.pyplot as plt\n",
        "import seaborn as sns\n",
        "\n",
        "from sklearn.model_selection import train_test_split\n",
        "from sklearn.preprocessing import OneHotEncoder, StandardScaler\n",
        "from sklearn.compose import ColumnTransformer\n",
        "from sklearn.pipeline import Pipeline,make_pipeline\n",
        "\n",
        "from sklearn.linear_model import LinearRegression\n",
        "from sklearn.ensemble import RandomForestRegressor\n"
      ],
      "execution_count": null,
      "outputs": []
    },
    {
      "cell_type": "code",
      "metadata": {
        "colab": {
          "base_uri": "https://localhost:8080/",
          "height": 417
        },
        "id": "MmIw6F-eDhwR",
        "outputId": "eafdc2f8-9f6e-4620-e21b-83c27e6b9f76"
      },
      "source": [
        "dataset = pd.read_csv('/content/insurance.csv')\n",
        "dataset"
      ],
      "execution_count": null,
      "outputs": [
        {
          "output_type": "execute_result",
          "data": {
            "text/html": [
              "<div>\n",
              "<style scoped>\n",
              "    .dataframe tbody tr th:only-of-type {\n",
              "        vertical-align: middle;\n",
              "    }\n",
              "\n",
              "    .dataframe tbody tr th {\n",
              "        vertical-align: top;\n",
              "    }\n",
              "\n",
              "    .dataframe thead th {\n",
              "        text-align: right;\n",
              "    }\n",
              "</style>\n",
              "<table border=\"1\" class=\"dataframe\">\n",
              "  <thead>\n",
              "    <tr style=\"text-align: right;\">\n",
              "      <th></th>\n",
              "      <th>age</th>\n",
              "      <th>sex</th>\n",
              "      <th>bmi</th>\n",
              "      <th>children</th>\n",
              "      <th>smoker</th>\n",
              "      <th>region</th>\n",
              "      <th>charges</th>\n",
              "    </tr>\n",
              "  </thead>\n",
              "  <tbody>\n",
              "    <tr>\n",
              "      <th>0</th>\n",
              "      <td>19</td>\n",
              "      <td>female</td>\n",
              "      <td>27.900</td>\n",
              "      <td>0</td>\n",
              "      <td>yes</td>\n",
              "      <td>southwest</td>\n",
              "      <td>16884.92400</td>\n",
              "    </tr>\n",
              "    <tr>\n",
              "      <th>1</th>\n",
              "      <td>18</td>\n",
              "      <td>male</td>\n",
              "      <td>33.770</td>\n",
              "      <td>1</td>\n",
              "      <td>no</td>\n",
              "      <td>southeast</td>\n",
              "      <td>1725.55230</td>\n",
              "    </tr>\n",
              "    <tr>\n",
              "      <th>2</th>\n",
              "      <td>28</td>\n",
              "      <td>male</td>\n",
              "      <td>33.000</td>\n",
              "      <td>3</td>\n",
              "      <td>no</td>\n",
              "      <td>southeast</td>\n",
              "      <td>4449.46200</td>\n",
              "    </tr>\n",
              "    <tr>\n",
              "      <th>3</th>\n",
              "      <td>33</td>\n",
              "      <td>male</td>\n",
              "      <td>22.705</td>\n",
              "      <td>0</td>\n",
              "      <td>no</td>\n",
              "      <td>northwest</td>\n",
              "      <td>21984.47061</td>\n",
              "    </tr>\n",
              "    <tr>\n",
              "      <th>4</th>\n",
              "      <td>32</td>\n",
              "      <td>male</td>\n",
              "      <td>28.880</td>\n",
              "      <td>0</td>\n",
              "      <td>no</td>\n",
              "      <td>northwest</td>\n",
              "      <td>3866.85520</td>\n",
              "    </tr>\n",
              "    <tr>\n",
              "      <th>...</th>\n",
              "      <td>...</td>\n",
              "      <td>...</td>\n",
              "      <td>...</td>\n",
              "      <td>...</td>\n",
              "      <td>...</td>\n",
              "      <td>...</td>\n",
              "      <td>...</td>\n",
              "    </tr>\n",
              "    <tr>\n",
              "      <th>1333</th>\n",
              "      <td>50</td>\n",
              "      <td>male</td>\n",
              "      <td>30.970</td>\n",
              "      <td>3</td>\n",
              "      <td>no</td>\n",
              "      <td>northwest</td>\n",
              "      <td>10600.54830</td>\n",
              "    </tr>\n",
              "    <tr>\n",
              "      <th>1334</th>\n",
              "      <td>18</td>\n",
              "      <td>female</td>\n",
              "      <td>31.920</td>\n",
              "      <td>0</td>\n",
              "      <td>no</td>\n",
              "      <td>northeast</td>\n",
              "      <td>2205.98080</td>\n",
              "    </tr>\n",
              "    <tr>\n",
              "      <th>1335</th>\n",
              "      <td>18</td>\n",
              "      <td>female</td>\n",
              "      <td>36.850</td>\n",
              "      <td>0</td>\n",
              "      <td>no</td>\n",
              "      <td>southeast</td>\n",
              "      <td>1629.83350</td>\n",
              "    </tr>\n",
              "    <tr>\n",
              "      <th>1336</th>\n",
              "      <td>21</td>\n",
              "      <td>female</td>\n",
              "      <td>25.800</td>\n",
              "      <td>0</td>\n",
              "      <td>no</td>\n",
              "      <td>southwest</td>\n",
              "      <td>2007.94500</td>\n",
              "    </tr>\n",
              "    <tr>\n",
              "      <th>1337</th>\n",
              "      <td>61</td>\n",
              "      <td>female</td>\n",
              "      <td>29.070</td>\n",
              "      <td>0</td>\n",
              "      <td>yes</td>\n",
              "      <td>northwest</td>\n",
              "      <td>29141.36030</td>\n",
              "    </tr>\n",
              "  </tbody>\n",
              "</table>\n",
              "<p>1338 rows × 7 columns</p>\n",
              "</div>"
            ],
            "text/plain": [
              "      age     sex     bmi  children smoker     region      charges\n",
              "0      19  female  27.900         0    yes  southwest  16884.92400\n",
              "1      18    male  33.770         1     no  southeast   1725.55230\n",
              "2      28    male  33.000         3     no  southeast   4449.46200\n",
              "3      33    male  22.705         0     no  northwest  21984.47061\n",
              "4      32    male  28.880         0     no  northwest   3866.85520\n",
              "...   ...     ...     ...       ...    ...        ...          ...\n",
              "1333   50    male  30.970         3     no  northwest  10600.54830\n",
              "1334   18  female  31.920         0     no  northeast   2205.98080\n",
              "1335   18  female  36.850         0     no  southeast   1629.83350\n",
              "1336   21  female  25.800         0     no  southwest   2007.94500\n",
              "1337   61  female  29.070         0    yes  northwest  29141.36030\n",
              "\n",
              "[1338 rows x 7 columns]"
            ]
          },
          "metadata": {},
          "execution_count": 2
        }
      ]
    },
    {
      "cell_type": "code",
      "metadata": {
        "colab": {
          "base_uri": "https://localhost:8080/"
        },
        "id": "bGBhR1XNEsoI",
        "outputId": "92d4e305-0e41-4351-f4ff-033c38b88f43"
      },
      "source": [
        "dataset.info()"
      ],
      "execution_count": null,
      "outputs": [
        {
          "output_type": "stream",
          "name": "stdout",
          "text": [
            "<class 'pandas.core.frame.DataFrame'>\n",
            "RangeIndex: 1338 entries, 0 to 1337\n",
            "Data columns (total 7 columns):\n",
            " #   Column    Non-Null Count  Dtype  \n",
            "---  ------    --------------  -----  \n",
            " 0   age       1338 non-null   int64  \n",
            " 1   sex       1338 non-null   object \n",
            " 2   bmi       1338 non-null   float64\n",
            " 3   children  1338 non-null   int64  \n",
            " 4   smoker    1338 non-null   object \n",
            " 5   region    1338 non-null   object \n",
            " 6   charges   1338 non-null   float64\n",
            "dtypes: float64(2), int64(2), object(3)\n",
            "memory usage: 73.3+ KB\n"
          ]
        }
      ]
    },
    {
      "cell_type": "code",
      "metadata": {
        "id": "AvMg6ThPFlJB"
      },
      "source": [
        "def preprocess_data(data):\n",
        "  data =data.copy()\n",
        "  y=data['charges']\n",
        "  x=data.drop('charges',axis=1)\n",
        "\n",
        "  x_train,x_test, y_train, y_test = train_test_split(x,y,train_size=0.7, test_size=0.3, shuffle=True, random_state=1)\n",
        "\n",
        "  return x_train, x_test, y_train, y_test"
      ],
      "execution_count": null,
      "outputs": []
    },
    {
      "cell_type": "code",
      "metadata": {
        "id": "zbhnxxo-Ii-r"
      },
      "source": [
        "x_train, x_test, y_train, y_test = preprocess_data(dataset)"
      ],
      "execution_count": null,
      "outputs": []
    },
    {
      "cell_type": "code",
      "metadata": {
        "colab": {
          "base_uri": "https://localhost:8080/",
          "height": 417
        },
        "id": "7BOaC77sI5Ko",
        "outputId": "19d6b377-bc76-4372-c7a9-e0ff18d2088e"
      },
      "source": [
        "x_train"
      ],
      "execution_count": null,
      "outputs": [
        {
          "output_type": "execute_result",
          "data": {
            "text/html": [
              "<div>\n",
              "<style scoped>\n",
              "    .dataframe tbody tr th:only-of-type {\n",
              "        vertical-align: middle;\n",
              "    }\n",
              "\n",
              "    .dataframe tbody tr th {\n",
              "        vertical-align: top;\n",
              "    }\n",
              "\n",
              "    .dataframe thead th {\n",
              "        text-align: right;\n",
              "    }\n",
              "</style>\n",
              "<table border=\"1\" class=\"dataframe\">\n",
              "  <thead>\n",
              "    <tr style=\"text-align: right;\">\n",
              "      <th></th>\n",
              "      <th>age</th>\n",
              "      <th>sex</th>\n",
              "      <th>bmi</th>\n",
              "      <th>children</th>\n",
              "      <th>smoker</th>\n",
              "      <th>region</th>\n",
              "    </tr>\n",
              "  </thead>\n",
              "  <tbody>\n",
              "    <tr>\n",
              "      <th>744</th>\n",
              "      <td>50</td>\n",
              "      <td>male</td>\n",
              "      <td>26.410</td>\n",
              "      <td>0</td>\n",
              "      <td>no</td>\n",
              "      <td>northwest</td>\n",
              "    </tr>\n",
              "    <tr>\n",
              "      <th>363</th>\n",
              "      <td>21</td>\n",
              "      <td>female</td>\n",
              "      <td>26.400</td>\n",
              "      <td>1</td>\n",
              "      <td>no</td>\n",
              "      <td>southwest</td>\n",
              "    </tr>\n",
              "    <tr>\n",
              "      <th>10</th>\n",
              "      <td>25</td>\n",
              "      <td>male</td>\n",
              "      <td>26.220</td>\n",
              "      <td>0</td>\n",
              "      <td>no</td>\n",
              "      <td>northeast</td>\n",
              "    </tr>\n",
              "    <tr>\n",
              "      <th>970</th>\n",
              "      <td>50</td>\n",
              "      <td>female</td>\n",
              "      <td>28.160</td>\n",
              "      <td>3</td>\n",
              "      <td>no</td>\n",
              "      <td>southeast</td>\n",
              "    </tr>\n",
              "    <tr>\n",
              "      <th>634</th>\n",
              "      <td>51</td>\n",
              "      <td>male</td>\n",
              "      <td>39.700</td>\n",
              "      <td>1</td>\n",
              "      <td>no</td>\n",
              "      <td>southwest</td>\n",
              "    </tr>\n",
              "    <tr>\n",
              "      <th>...</th>\n",
              "      <td>...</td>\n",
              "      <td>...</td>\n",
              "      <td>...</td>\n",
              "      <td>...</td>\n",
              "      <td>...</td>\n",
              "      <td>...</td>\n",
              "    </tr>\n",
              "    <tr>\n",
              "      <th>715</th>\n",
              "      <td>60</td>\n",
              "      <td>male</td>\n",
              "      <td>28.900</td>\n",
              "      <td>0</td>\n",
              "      <td>no</td>\n",
              "      <td>southwest</td>\n",
              "    </tr>\n",
              "    <tr>\n",
              "      <th>905</th>\n",
              "      <td>26</td>\n",
              "      <td>female</td>\n",
              "      <td>29.355</td>\n",
              "      <td>2</td>\n",
              "      <td>no</td>\n",
              "      <td>northeast</td>\n",
              "    </tr>\n",
              "    <tr>\n",
              "      <th>1096</th>\n",
              "      <td>51</td>\n",
              "      <td>female</td>\n",
              "      <td>34.960</td>\n",
              "      <td>2</td>\n",
              "      <td>yes</td>\n",
              "      <td>northeast</td>\n",
              "    </tr>\n",
              "    <tr>\n",
              "      <th>235</th>\n",
              "      <td>40</td>\n",
              "      <td>female</td>\n",
              "      <td>22.220</td>\n",
              "      <td>2</td>\n",
              "      <td>yes</td>\n",
              "      <td>southeast</td>\n",
              "    </tr>\n",
              "    <tr>\n",
              "      <th>1061</th>\n",
              "      <td>57</td>\n",
              "      <td>male</td>\n",
              "      <td>27.940</td>\n",
              "      <td>1</td>\n",
              "      <td>no</td>\n",
              "      <td>southeast</td>\n",
              "    </tr>\n",
              "  </tbody>\n",
              "</table>\n",
              "<p>936 rows × 6 columns</p>\n",
              "</div>"
            ],
            "text/plain": [
              "      age     sex     bmi  children smoker     region\n",
              "744    50    male  26.410         0     no  northwest\n",
              "363    21  female  26.400         1     no  southwest\n",
              "10     25    male  26.220         0     no  northeast\n",
              "970    50  female  28.160         3     no  southeast\n",
              "634    51    male  39.700         1     no  southwest\n",
              "...   ...     ...     ...       ...    ...        ...\n",
              "715    60    male  28.900         0     no  southwest\n",
              "905    26  female  29.355         2     no  northeast\n",
              "1096   51  female  34.960         2    yes  northeast\n",
              "235    40  female  22.220         2    yes  southeast\n",
              "1061   57    male  27.940         1     no  southeast\n",
              "\n",
              "[936 rows x 6 columns]"
            ]
          },
          "metadata": {},
          "execution_count": 6
        }
      ]
    },
    {
      "cell_type": "code",
      "metadata": {
        "id": "B3KeB2s1JR7d"
      },
      "source": [
        "nominal_features = ['sex', 'smoker', 'region']\n",
        "\n",
        "nominal_transformer = Pipeline(steps=[\n",
        "    ('onehot', OneHotEncoder(sparse=False, drop='first'))\n",
        "])\n",
        "\n",
        "preprocessor = ColumnTransformer(transformers=[\n",
        "    ('nominal', nominal_transformer, nominal_features)\n",
        "], remainder='passthrough')\n",
        "\n",
        "\n",
        "model = Pipeline(steps=[\n",
        "                        ('preprocessor', preprocessor),\n",
        "                        ('scalar', StandardScaler()),\n",
        "                        ('regressor', RandomForestRegressor())\n",
        "])"
      ],
      "execution_count": null,
      "outputs": []
    },
    {
      "cell_type": "code",
      "metadata": {
        "id": "Y88PuvzX-rn6",
        "colab": {
          "base_uri": "https://localhost:8080/"
        },
        "outputId": "160dc6ce-2205-40c1-a3ec-a79c2b48031d"
      },
      "source": [
        "res = model.fit(x_train, y_train)\n",
        "res"
      ],
      "execution_count": null,
      "outputs": [
        {
          "output_type": "execute_result",
          "data": {
            "text/plain": [
              "Pipeline(memory=None,\n",
              "         steps=[('preprocessor',\n",
              "                 ColumnTransformer(n_jobs=None, remainder='passthrough',\n",
              "                                   sparse_threshold=0.3,\n",
              "                                   transformer_weights=None,\n",
              "                                   transformers=[('nominal',\n",
              "                                                  Pipeline(memory=None,\n",
              "                                                           steps=[('onehot',\n",
              "                                                                   OneHotEncoder(categories='auto',\n",
              "                                                                                 drop='first',\n",
              "                                                                                 dtype=<class 'numpy.float64'>,\n",
              "                                                                                 handle_unknown='error',\n",
              "                                                                                 sparse=False))],\n",
              "                                                           verbose=False),\n",
              "                                                  ['sex', 'smoker'...\n",
              "                 RandomForestRegressor(bootstrap=True, ccp_alpha=0.0,\n",
              "                                       criterion='mse', max_depth=None,\n",
              "                                       max_features='auto', max_leaf_nodes=None,\n",
              "                                       max_samples=None,\n",
              "                                       min_impurity_decrease=0.0,\n",
              "                                       min_impurity_split=None,\n",
              "                                       min_samples_leaf=1, min_samples_split=2,\n",
              "                                       min_weight_fraction_leaf=0.0,\n",
              "                                       n_estimators=100, n_jobs=None,\n",
              "                                       oob_score=False, random_state=None,\n",
              "                                       verbose=0, warm_start=False))],\n",
              "         verbose=False)"
            ]
          },
          "metadata": {},
          "execution_count": 8
        }
      ]
    },
    {
      "cell_type": "markdown",
      "metadata": {
        "id": "yKsgeOPbaFSa"
      },
      "source": [
        "Predicting the model"
      ]
    },
    {
      "cell_type": "code",
      "metadata": {
        "id": "ePsA6tVNaI_z"
      },
      "source": [
        "y_pred = model.predict(x_test)"
      ],
      "execution_count": null,
      "outputs": []
    },
    {
      "cell_type": "code",
      "metadata": {
        "colab": {
          "base_uri": "https://localhost:8080/",
          "height": 417
        },
        "id": "UfxLY3pdxyue",
        "outputId": "7e146aaf-0b09-4434-cbc7-434449e63891"
      },
      "source": [
        "x_test"
      ],
      "execution_count": null,
      "outputs": [
        {
          "output_type": "execute_result",
          "data": {
            "text/html": [
              "<div>\n",
              "<style scoped>\n",
              "    .dataframe tbody tr th:only-of-type {\n",
              "        vertical-align: middle;\n",
              "    }\n",
              "\n",
              "    .dataframe tbody tr th {\n",
              "        vertical-align: top;\n",
              "    }\n",
              "\n",
              "    .dataframe thead th {\n",
              "        text-align: right;\n",
              "    }\n",
              "</style>\n",
              "<table border=\"1\" class=\"dataframe\">\n",
              "  <thead>\n",
              "    <tr style=\"text-align: right;\">\n",
              "      <th></th>\n",
              "      <th>age</th>\n",
              "      <th>sex</th>\n",
              "      <th>bmi</th>\n",
              "      <th>children</th>\n",
              "      <th>smoker</th>\n",
              "      <th>region</th>\n",
              "    </tr>\n",
              "  </thead>\n",
              "  <tbody>\n",
              "    <tr>\n",
              "      <th>559</th>\n",
              "      <td>19</td>\n",
              "      <td>male</td>\n",
              "      <td>35.530</td>\n",
              "      <td>0</td>\n",
              "      <td>no</td>\n",
              "      <td>northwest</td>\n",
              "    </tr>\n",
              "    <tr>\n",
              "      <th>1087</th>\n",
              "      <td>57</td>\n",
              "      <td>male</td>\n",
              "      <td>31.540</td>\n",
              "      <td>0</td>\n",
              "      <td>no</td>\n",
              "      <td>northwest</td>\n",
              "    </tr>\n",
              "    <tr>\n",
              "      <th>1020</th>\n",
              "      <td>51</td>\n",
              "      <td>male</td>\n",
              "      <td>37.000</td>\n",
              "      <td>0</td>\n",
              "      <td>no</td>\n",
              "      <td>southwest</td>\n",
              "    </tr>\n",
              "    <tr>\n",
              "      <th>460</th>\n",
              "      <td>49</td>\n",
              "      <td>female</td>\n",
              "      <td>36.630</td>\n",
              "      <td>3</td>\n",
              "      <td>no</td>\n",
              "      <td>southeast</td>\n",
              "    </tr>\n",
              "    <tr>\n",
              "      <th>802</th>\n",
              "      <td>21</td>\n",
              "      <td>male</td>\n",
              "      <td>22.300</td>\n",
              "      <td>1</td>\n",
              "      <td>no</td>\n",
              "      <td>southwest</td>\n",
              "    </tr>\n",
              "    <tr>\n",
              "      <th>...</th>\n",
              "      <td>...</td>\n",
              "      <td>...</td>\n",
              "      <td>...</td>\n",
              "      <td>...</td>\n",
              "      <td>...</td>\n",
              "      <td>...</td>\n",
              "    </tr>\n",
              "    <tr>\n",
              "      <th>323</th>\n",
              "      <td>57</td>\n",
              "      <td>male</td>\n",
              "      <td>40.945</td>\n",
              "      <td>0</td>\n",
              "      <td>no</td>\n",
              "      <td>northeast</td>\n",
              "    </tr>\n",
              "    <tr>\n",
              "      <th>1268</th>\n",
              "      <td>20</td>\n",
              "      <td>female</td>\n",
              "      <td>33.300</td>\n",
              "      <td>0</td>\n",
              "      <td>no</td>\n",
              "      <td>southwest</td>\n",
              "    </tr>\n",
              "    <tr>\n",
              "      <th>134</th>\n",
              "      <td>20</td>\n",
              "      <td>female</td>\n",
              "      <td>28.785</td>\n",
              "      <td>0</td>\n",
              "      <td>no</td>\n",
              "      <td>northeast</td>\n",
              "    </tr>\n",
              "    <tr>\n",
              "      <th>1274</th>\n",
              "      <td>26</td>\n",
              "      <td>male</td>\n",
              "      <td>27.060</td>\n",
              "      <td>0</td>\n",
              "      <td>yes</td>\n",
              "      <td>southeast</td>\n",
              "    </tr>\n",
              "    <tr>\n",
              "      <th>876</th>\n",
              "      <td>49</td>\n",
              "      <td>female</td>\n",
              "      <td>27.100</td>\n",
              "      <td>1</td>\n",
              "      <td>no</td>\n",
              "      <td>southwest</td>\n",
              "    </tr>\n",
              "  </tbody>\n",
              "</table>\n",
              "<p>402 rows × 6 columns</p>\n",
              "</div>"
            ],
            "text/plain": [
              "      age     sex     bmi  children smoker     region\n",
              "559    19    male  35.530         0     no  northwest\n",
              "1087   57    male  31.540         0     no  northwest\n",
              "1020   51    male  37.000         0     no  southwest\n",
              "460    49  female  36.630         3     no  southeast\n",
              "802    21    male  22.300         1     no  southwest\n",
              "...   ...     ...     ...       ...    ...        ...\n",
              "323    57    male  40.945         0     no  northeast\n",
              "1268   20  female  33.300         0     no  southwest\n",
              "134    20  female  28.785         0     no  northeast\n",
              "1274   26    male  27.060         0    yes  southeast\n",
              "876    49  female  27.100         1     no  southwest\n",
              "\n",
              "[402 rows x 6 columns]"
            ]
          },
          "metadata": {},
          "execution_count": 10
        }
      ]
    },
    {
      "cell_type": "code",
      "metadata": {
        "id": "VUphj9igqCyb",
        "colab": {
          "base_uri": "https://localhost:8080/"
        },
        "outputId": "372188ea-1a65-4e2c-9885-02e64c3051c5"
      },
      "source": [
        "rmse = np.sqrt(np.mean((y_test - y_pred)**2))\n",
        "r2 = 1 - (np.sum((y_test - y_pred)**2) / np.sum((y_test - y_test.mean())**2))\n",
        "\n",
        "print(\"RMSE: {:.2f}\".format(rmse))\n",
        "print(\" R^2: {:.5f}\".format(r2))"
      ],
      "execution_count": null,
      "outputs": [
        {
          "output_type": "stream",
          "name": "stdout",
          "text": [
            "RMSE: 4886.74\n",
            " R^2: 0.83149\n"
          ]
        }
      ]
    },
    {
      "cell_type": "code",
      "metadata": {
        "colab": {
          "base_uri": "https://localhost:8080/"
        },
        "id": "5hE9U0iDaww6",
        "outputId": "414f9914-a76b-4ff7-898c-385650ac966b"
      },
      "source": [
        "y_train"
      ],
      "execution_count": null,
      "outputs": [
        {
          "output_type": "execute_result",
          "data": {
            "text/plain": [
              "744      8827.20990\n",
              "363      2597.77900\n",
              "10       2721.32080\n",
              "970     10702.64240\n",
              "634      9391.34600\n",
              "           ...     \n",
              "715     12146.97100\n",
              "905      4564.19145\n",
              "1096    44641.19740\n",
              "235     19444.26580\n",
              "1061    11554.22360\n",
              "Name: charges, Length: 936, dtype: float64"
            ]
          },
          "metadata": {},
          "execution_count": 10
        }
      ]
    },
    {
      "cell_type": "code",
      "metadata": {
        "colab": {
          "base_uri": "https://localhost:8080/"
        },
        "id": "ln5BN8vna2Fj",
        "outputId": "3c2acd59-5ea3-46ef-819d-6e7f1fde646c"
      },
      "source": [
        "np.sum((y_test - y_test.mean())**2)"
      ],
      "execution_count": null,
      "outputs": [
        {
          "output_type": "execute_result",
          "data": {
            "text/plain": [
              "56970102513.23878"
            ]
          },
          "metadata": {},
          "execution_count": 11
        }
      ]
    },
    {
      "cell_type": "code",
      "metadata": {
        "colab": {
          "base_uri": "https://localhost:8080/"
        },
        "id": "MCHtaYuob07N",
        "outputId": "fb4e1dfb-1292-4219-af45-96f142042f1c"
      },
      "source": [
        "y_pred"
      ],
      "execution_count": null,
      "outputs": [
        {
          "output_type": "execute_result",
          "data": {
            "text/plain": [
              "array([ 2421.6303261 , 12266.3188134 ,  9035.5444136 , 10903.6331273 ,\n",
              "        2156.172438  , 39904.9704112 , 10273.1867112 , 11639.8147705 ,\n",
              "        3170.4881357 , 20374.2002905 , 17619.5602133 , 13619.9918653 ,\n",
              "        6912.7358505 ,  7184.8806619 ,  2023.419089  , 11714.7502506 ,\n",
              "        6980.3719718 ,  6797.9886865 , 15788.6435766 , 13958.7322076 ,\n",
              "       10038.3705675 , 39943.2081514 , 11216.3110319 ,  9302.2759989 ,\n",
              "       15161.08119507,  6767.435854  ,  8610.227741  ,  9796.049981  ,\n",
              "        6867.8523317 ,  3675.126971  , 12169.7559086 ,  7182.8262328 ,\n",
              "       25965.022305  , 35371.7295385 , 25306.5945452 , 15127.7529073 ,\n",
              "       39089.1338799 , 17359.3945615 , 15219.474544  , 46545.9613946 ,\n",
              "        7470.7991667 , 11827.6410465 , 11000.8075322 , 19343.4894928 ,\n",
              "        6153.8885412 , 12770.3181117 ,  2000.1332281 , 34892.0404081 ,\n",
              "       10713.4357814 , 18769.9558524 , 16039.7944599 , 15255.0853969 ,\n",
              "        5626.5639296 , 12553.5047732 , 16842.3607005 ,  6668.9217221 ,\n",
              "       41011.9335561 , 14205.0515591 ,  6757.6755108 ,  1836.5172533 ,\n",
              "        3629.4154884 , 13238.0745905 , 26685.7143952 ,  5021.178987  ,\n",
              "       14559.2087371 , 10009.5597228 , 12045.0121302 , 13828.8433138 ,\n",
              "        3321.5252588 , 16319.5249941 , 44403.270904  , 39311.3668037 ,\n",
              "        2332.73301664, 16718.6548802 , 13762.3651927 , 41613.0237016 ,\n",
              "        4197.1219587 ,  3221.671034  , 11804.9825857 , 16943.4600366 ,\n",
              "        2827.957605  , 14114.2409928 , 17460.3075162 ,  5993.60256237,\n",
              "       39317.3610725 , 40442.323777  ,  7242.7513124 , 46224.7896125 ,\n",
              "       10931.882318  ,  7474.821986  , 20716.2172863 , 23568.629586  ,\n",
              "       19198.7855353 , 10771.846596  ,  1699.6749495 , 20348.4175781 ,\n",
              "       11879.0124855 , 15587.9880835 , 13136.6838156 ,  8279.6157847 ,\n",
              "       11832.9064508 , 17372.3525493 , 19518.9970957 , 36340.4741752 ,\n",
              "       28585.6383677 , 24686.1912724 ,  1981.8090195 ,  8758.1479641 ,\n",
              "        2341.964859  , 16322.7176897 ,  4648.2738305 ,  5390.9772671 ,\n",
              "        1816.065073  , 18336.893104  ,  3308.1085266 ,  1589.9085475 ,\n",
              "        7338.7075843 , 17119.9301919 , 10258.7810513 ,  2130.6452675 ,\n",
              "       10722.175467  , 13090.7600887 ,  6212.3654027 ,  9229.9341506 ,\n",
              "       43662.4033404 , 11776.871711  , 17924.697551  , 19981.4190485 ,\n",
              "       43916.6351645 ,  9645.3183919 , 37688.892033  ,  1919.5416316 ,\n",
              "        7062.7720641 , 43222.5691261 , 11611.1719154 ,  1775.606407  ,\n",
              "        1826.336334  ,  9756.253331  , 12917.3246152 , 10256.8351681 ,\n",
              "       14506.5415051 ,  6205.2856466 , 20075.1477167 , 14609.1938761 ,\n",
              "       14304.5104305 , 13414.4473573 ,  3447.07723875,  7967.0514733 ,\n",
              "        1992.6032399 ,  6905.024704  ,  9273.3742794 ,  6821.0683173 ,\n",
              "       18165.951301  , 13032.7549633 , 10187.8379811 ,  6446.460122  ,\n",
              "        9917.4301374 ,  9791.2896806 ,  9976.1729687 ,  4438.6592592 ,\n",
              "        5259.0169817 , 47199.809384  , 12606.1969893 ,  4038.0686127 ,\n",
              "        7057.1348119 ,  1940.8493877 , 40715.6542267 , 14828.4922085 ,\n",
              "       12218.0100063 ,  5023.4546485 ,  7128.1435463 ,  8347.8606502 ,\n",
              "       28269.7848208 , 27372.3658891 ,  4101.3669881 ,  5998.1188505 ,\n",
              "        3834.4377692 , 15949.3842768 ,  8536.9107544 , 10924.2254432 ,\n",
              "       13574.7258249 , 14167.3525683 ,  9185.7634601 , 18571.3702183 ,\n",
              "        4962.0846425 , 20198.1278076 ,  3620.0141851 , 11565.593057  ,\n",
              "        8895.3382975 , 13016.6862532 , 17300.9046819 , 46344.7883847 ,\n",
              "        4381.7655513 ,  3321.5714978 ,  7012.5644829 ,  9440.2760057 ,\n",
              "        7006.4779891 ,  2245.11667   , 20243.6838427 ,  8489.7016882 ,\n",
              "        6748.61728   ,  8330.2396975 , 14231.3443902 ,  6860.1526515 ,\n",
              "        6539.9741605 ,  2204.23152119,  6510.777485  ,  7275.9937029 ,\n",
              "        2680.6122593 , 11740.5053242 ,  3793.078094  , 25706.8099987 ,\n",
              "        4673.9809388 ,  4861.0324328 ,  6032.2830833 , 46730.7881236 ,\n",
              "       13186.1948025 , 34982.4991465 ,  2934.854675  , 50448.5648897 ,\n",
              "        3253.3269044 , 28434.2448613 , 16557.9829887 ,  7278.0628725 ,\n",
              "        2529.1087093 ,  6153.438441  ,  4707.9375588 ,  8574.9245156 ,\n",
              "       20916.2411593 , 13917.5552488 , 18348.3661008 , 14729.4235336 ,\n",
              "       46164.5342777 , 12232.3714571 , 14573.850091  , 16839.8995507 ,\n",
              "       18095.0604945 ,  2346.2138408 ,  8588.1533851 ,  5022.5346953 ,\n",
              "        9406.3150605 ,  1956.168305  , 15873.6969127 ,  2705.5737031 ,\n",
              "       11001.5265989 , 24246.5368655 ,  9561.2366012 , 10943.6534116 ,\n",
              "        5402.5421509 , 14525.7156    , 14692.0627251 ,  4338.4846175 ,\n",
              "       17924.8353285 , 11215.0170435 ,  2820.62794438,  2690.5483412 ,\n",
              "       35496.4192902 , 21053.1434253 ,  1588.109735  , 47009.1795705 ,\n",
              "        8386.4571674 ,  7143.5157735 ,  9248.8218469 , 41123.9682747 ,\n",
              "       46958.4632656 , 44903.1539837 ,  2247.289775  ,  5013.998849  ,\n",
              "       15401.6784867 , 12902.9863394 ,  1447.0072165 , 16293.0708907 ,\n",
              "        8233.3589181 ,  8324.038318  ,  7055.6709165 , 47368.8810935 ,\n",
              "        7949.5127201 ,  7439.8166391 , 19985.1340952 , 18423.7571575 ,\n",
              "        3737.1707426 , 11652.9159674 ,  6735.5707555 ,  3442.4211348 ,\n",
              "        9563.7114193 , 13969.2406549 , 16293.389912  ,  9485.8856361 ,\n",
              "        5883.7179612 ,  5945.7905375 , 15154.9514037 , 15126.0839201 ,\n",
              "       14239.7745592 , 15660.9997649 ,  4311.8376021 , 29374.1700186 ,\n",
              "        6474.5206025 ,  6164.4012638 ,  5554.5600641 ,  6898.9461841 ,\n",
              "        6082.1895113 ,  8972.3880429 ,  4565.9174555 ,  6671.270012  ,\n",
              "        7337.5872933 , 20427.7035085 ,  5191.943652  ,  8061.8817259 ,\n",
              "       10804.35552009,  7360.9422819 ,  5224.703182  ,  2826.20213929,\n",
              "       18409.5491476 ,  3839.9911238 ,  5306.164004  , 14700.4524354 ,\n",
              "       14841.8979497 ,  9156.9139025 , 14207.5066939 , 12054.6687096 ,\n",
              "        9642.3898625 , 17273.7105626 ,  9988.9720702 ,  6796.716508  ,\n",
              "       12080.1475088 ,  5301.9540001 , 15841.8077507 ,  7190.175855  ,\n",
              "        7285.1695498 , 29595.3296919 , 12589.3690497 , 15846.5492045 ,\n",
              "       10919.836952  ,  2648.63617048,  8468.0320866 ,  3469.8433555 ,\n",
              "        4925.3789143 ,  6137.5361345 , 20667.6698275 , 14839.1007679 ,\n",
              "       42899.9719932 ,  2290.8410631 , 41489.0022433 ,  6736.2473838 ,\n",
              "        7693.2696304 , 36437.4022369 ,  4546.0764346 ,  3072.7779906 ,\n",
              "        3836.2408565 , 17223.0208669 ,  8268.6775135 ,  2626.6508281 ,\n",
              "       15142.6994931 , 51010.850358  , 16440.4594907 , 12072.0988373 ,\n",
              "       16104.3920877 , 28450.377237  , 10719.86928   ,  4634.0147299 ,\n",
              "        9602.3579    , 13904.2934159 , 11401.6611002 ,  9165.8182638 ,\n",
              "        6893.8186266 ,  8212.8944853 , 38098.0882412 , 26726.3636411 ,\n",
              "        7084.9347055 , 27087.0712093 , 28023.3829721 , 12722.7878305 ,\n",
              "        6167.197517  ,  9358.936213  ,  8108.5471751 , 11799.2213176 ,\n",
              "       16153.1492043 ,  4890.5211665 ,  9746.324538  , 12010.7357662 ,\n",
              "        7152.103207  , 19369.4952211 , 19577.6770292 , 25550.8455984 ,\n",
              "       11353.137227  , 15602.5604301 , 13761.3880919 ,  4726.6265488 ,\n",
              "        7483.8636136 , 12508.9285223 , 38552.0266106 , 45363.623127  ,\n",
              "        8517.0671494 , 42699.5851776 , 36341.7588982 , 22065.7546649 ,\n",
              "       13073.1793066 , 15036.2104001 ,  4894.4505907 ,  2523.66935976,\n",
              "       18817.8296722 , 10715.142167  ])"
            ]
          },
          "metadata": {},
          "execution_count": 12
        }
      ]
    },
    {
      "cell_type": "code",
      "metadata": {
        "colab": {
          "base_uri": "https://localhost:8080/",
          "height": 231,
          "referenced_widgets": [
            "faa668ee0e44422888ce021d3fbed4eb",
            "a1255a7cf2fb48048742578b3a8a4542",
            "19ab83a237314d8181bce416bc0f860d",
            "b2439d3abb184516ada6413db1478631",
            "11866971695b4ee7bcbc9d23d89470e8",
            "f05c83f3748347b19a306ac939b64f32",
            "480765b383ef4b4e8974f65d2c8e609c",
            "ca750f3c49cf457aa0ed72b7cf9588ea",
            "af65ae571cbd461684f38e9a43f5d111",
            "2d29ef24219d4fbcaac2526ef32b64ee",
            "dc8048e0de894275abcb8fef4cda05f0",
            "e9a9cba63a724e09aa8c580a75566a41",
            "e23db5e62ff14678a1c7fbfa44faefc5",
            "313c600e307d4c7d8505c093cc4c6277",
            "15fd462923254630aa96a5a92118e5af",
            "0f572fc234ab406489ce3dbfb3810486",
            "b8995f0dd5fc43f785624732b96e8be7",
            "a63d7ebe58b3471daaa266bc9c50ca0e",
            "5545ef01d566482ba410cc372d1c03bd",
            "ced1c743594f48019bb7641d3e941863",
            "19943f0304004d30962e340a78630b7a",
            "a52e3ce1c6104f9f8740d13ebd8023f8",
            "c75672c0c63544fe9e2dc3c1dcc4edb3"
          ]
        },
        "id": "9hs2xQcRRxZv",
        "outputId": "5525e87e-0c60-40be-d8bb-160d64df0fdc"
      },
      "source": [
        "import ipywidgets as widgets\n",
        "from IPython.display import display\n",
        "\n",
        "age_widget = widgets.IntSlider(\n",
        "    value=38,\n",
        "    min=18,\n",
        "    max=64,\n",
        "    step=1,\n",
        "    description=\"Age:\"\n",
        ")\n",
        "\n",
        "bmi_widget = widgets.FloatSlider(\n",
        "    value=30,\n",
        "    min=15,\n",
        "    max=54,\n",
        "    step=0.01,\n",
        "    description=\"BMI:\"\n",
        ")\n",
        "\n",
        "children_widget = widgets.IntSlider(\n",
        "    value=1,\n",
        "    min=0,\n",
        "    max=5,\n",
        "    step=1,\n",
        "    description=\"Children:\"\n",
        ")\n",
        "\n",
        "sex_widget = widgets.ToggleButtons(\n",
        "    options=['female', 'male'],\n",
        "    description=\"Sex:\"\n",
        ")\n",
        "\n",
        "smoker_widget = widgets.ToggleButtons(\n",
        "    options=['no', 'yes'],\n",
        "    description=\"Smoker:\"\n",
        ")\n",
        "\n",
        "region_widget = widgets.Dropdown(\n",
        "    options=['northeast', 'northwest', 'southeast', 'southwest'],\n",
        "    description=\"Region:\"\n",
        ")\n",
        "\n",
        "predict_btn = widgets.Button(\n",
        "    description=\"Predict\"\n",
        ")\n",
        "\n",
        "prediction_out = widgets.Output()\n",
        "\n",
        "\n",
        "def make_prediction(btn):\n",
        "    x = pd.DataFrame({\n",
        "        'age':      age_widget.value,\n",
        "        'sex':      sex_widget.value,\n",
        "        'bmi':      bmi_widget.value,\n",
        "        'children': children_widget.value,\n",
        "        'smoker':   smoker_widget.value,\n",
        "        'region':   region_widget.value\n",
        "    }, index=[0])\n",
        "    \n",
        "    prediction = model.predict(x)\n",
        "    \n",
        "    with prediction_out:\n",
        "        prediction_out.clear_output()\n",
        "        print(\"Prediction: {:.4f}\".format(prediction[0]))\n",
        "\n",
        "\n",
        "predict_btn.on_click(make_prediction)\n",
        "\n",
        "\n",
        "display(age_widget, bmi_widget, children_widget, sex_widget, smoker_widget, region_widget, predict_btn, prediction_out)"
      ],
      "execution_count": null,
      "outputs": [
        {
          "output_type": "display_data",
          "data": {
            "application/vnd.jupyter.widget-view+json": {
              "model_id": "faa668ee0e44422888ce021d3fbed4eb",
              "version_minor": 0,
              "version_major": 2
            },
            "text/plain": [
              "IntSlider(value=38, description='Age:', max=64, min=18)"
            ]
          },
          "metadata": {}
        },
        {
          "output_type": "display_data",
          "data": {
            "application/vnd.jupyter.widget-view+json": {
              "model_id": "b2439d3abb184516ada6413db1478631",
              "version_minor": 0,
              "version_major": 2
            },
            "text/plain": [
              "FloatSlider(value=30.0, description='BMI:', max=54.0, min=15.0, step=0.01)"
            ]
          },
          "metadata": {}
        },
        {
          "output_type": "display_data",
          "data": {
            "application/vnd.jupyter.widget-view+json": {
              "model_id": "480765b383ef4b4e8974f65d2c8e609c",
              "version_minor": 0,
              "version_major": 2
            },
            "text/plain": [
              "IntSlider(value=1, description='Children:', max=5)"
            ]
          },
          "metadata": {}
        },
        {
          "output_type": "display_data",
          "data": {
            "application/vnd.jupyter.widget-view+json": {
              "model_id": "2d29ef24219d4fbcaac2526ef32b64ee",
              "version_minor": 0,
              "version_major": 2
            },
            "text/plain": [
              "ToggleButtons(description='Sex:', options=('female', 'male'), value='female')"
            ]
          },
          "metadata": {}
        },
        {
          "output_type": "display_data",
          "data": {
            "application/vnd.jupyter.widget-view+json": {
              "model_id": "e23db5e62ff14678a1c7fbfa44faefc5",
              "version_minor": 0,
              "version_major": 2
            },
            "text/plain": [
              "ToggleButtons(description='Smoker:', options=('no', 'yes'), value='no')"
            ]
          },
          "metadata": {}
        },
        {
          "output_type": "display_data",
          "data": {
            "application/vnd.jupyter.widget-view+json": {
              "model_id": "0f572fc234ab406489ce3dbfb3810486",
              "version_minor": 0,
              "version_major": 2
            },
            "text/plain": [
              "Dropdown(description='Region:', options=('northeast', 'northwest', 'southeast', 'southwest'), value='northeast…"
            ]
          },
          "metadata": {}
        },
        {
          "output_type": "display_data",
          "data": {
            "application/vnd.jupyter.widget-view+json": {
              "model_id": "5545ef01d566482ba410cc372d1c03bd",
              "version_minor": 0,
              "version_major": 2
            },
            "text/plain": [
              "Button(description='Predict', style=ButtonStyle())"
            ]
          },
          "metadata": {}
        },
        {
          "output_type": "display_data",
          "data": {
            "application/vnd.jupyter.widget-view+json": {
              "model_id": "a52e3ce1c6104f9f8740d13ebd8023f8",
              "version_minor": 0,
              "version_major": 2
            },
            "text/plain": [
              "Output()"
            ]
          },
          "metadata": {}
        }
      ]
    },
    {
      "cell_type": "code",
      "metadata": {
        "colab": {
          "base_uri": "https://localhost:8080/"
        },
        "id": "0ISbrnUhiQPy",
        "outputId": "d0301940-a1b5-4863-b8c3-4e08239c9a9d"
      },
      "source": [
        "import joblib\n",
        "joblib.dump(model,'insurance.model')"
      ],
      "execution_count": null,
      "outputs": [
        {
          "output_type": "execute_result",
          "data": {
            "text/plain": [
              "['insurance.model']"
            ]
          },
          "metadata": {},
          "execution_count": 15
        }
      ]
    }
  ]
}